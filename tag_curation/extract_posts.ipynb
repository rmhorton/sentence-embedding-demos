{
 "cells": [
  {
   "cell_type": "markdown",
   "id": "16e721d0",
   "metadata": {},
   "source": [
    "I downloaded selected 'Posts.xml' files from the [stackexchange archives](https://archive.org/download/stackexchange)."
   ]
  },
  {
   "cell_type": "code",
   "execution_count": 1,
   "id": "084ff1d4",
   "metadata": {
    "scrolled": true
   },
   "outputs": [
    {
     "data": {
      "text/plain": [
       "['ai_Posts.xml',\n",
       " 'bicycles_Posts.xml',\n",
       " 'bioinformatics_Posts.xml',\n",
       " 'biology_Posts.xml',\n",
       " 'cogsci_Posts.xml',\n",
       " 'datascience_Posts.xml',\n",
       " 'devops_Posts.xml',\n",
       " 'english_Posts.xml',\n",
       " 'fitness_Posts.xml',\n",
       " 'opensource_Posts.xml']"
      ]
     },
     "execution_count": 1,
     "metadata": {},
     "output_type": "execute_result"
    }
   ],
   "source": [
    "import os\n",
    "xml_files = [f for f in os.listdir() if f.endswith('xml')]\n",
    "xml_files"
   ]
  },
  {
   "cell_type": "code",
   "execution_count": 66,
   "id": "cc7067e8",
   "metadata": {},
   "outputs": [],
   "source": [
    "import xml.etree.ElementTree as ET\n",
    "import html # for html.unescape()\n",
    "import re\n",
    "from bs4 import BeautifulSoup # for soup.get_text()\n",
    "import pandas as pd\n",
    "\n",
    "def safe_unescape(html_raw):\n",
    "    if str(type(html_raw)) == \"<class 'NoneType'>\":\n",
    "        html_raw = ''\n",
    "    return html.unescape(html_raw)\n",
    "\n",
    "\n",
    "def list_tags(tags_str):\n",
    "    return ';'.join(tags_str[1:-1].split('><'))\n",
    "\n",
    "\n",
    "def get_html_text(html_raw):\n",
    "    html_str = safe_unescape(html_raw)\n",
    "    soup = BeautifulSoup(html_str, 'html.parser')\n",
    "    html_txt = soup.get_text()\n",
    "    return html_txt\n"
   ]
  },
  {
   "cell_type": "code",
   "execution_count": 67,
   "id": "703365dc",
   "metadata": {
    "scrolled": true
   },
   "outputs": [
    {
     "name": "stdout",
     "output_type": "stream",
     "text": [
      "ai_Posts.csv\n"
     ]
    }
   ],
   "source": [
    "for xml_file in xml_files[0:1]:\n",
    "    topic = xml_file.split('_')[0]\n",
    "    row_count = 0\n",
    "\n",
    "    with open(xml_file, encoding='utf-8') as xml_file_handle:\n",
    "        csv_file = xml_file.replace('.xml', '.csv')\n",
    "        print(csv_file)\n",
    "        data_rows = []\n",
    "        for line in xml_file_handle:\n",
    "            if re.match('  <row ', line):\n",
    "                row_count += 1\n",
    "                row_root = ET.fromstring(line)\n",
    "\n",
    "                title = get_html_text( row_root.attrib.get('Title') )\n",
    "                body = get_html_text( row_root.attrib.get('Body') )\n",
    "                tags = list_tags(safe_unescape( row_root.attrib.get('Tags') ) )\n",
    "                last_activity_date = row_root.attrib.get('LastActivityDate')\n",
    "                row_dict = {'topic':topic, \n",
    "                            'title':title, \n",
    "                            'body':body, \n",
    "                            'tags':tags, \n",
    "                            'last_activity_date':last_activity_date,\n",
    "                           }\n",
    "                data_rows.append(row_dict)\n",
    "                \n",
    "        pd.DataFrame(data_rows).to_csv(csv_file, index=False)\n"
   ]
  },
  {
   "cell_type": "code",
   "execution_count": null,
   "id": "e1652bf7",
   "metadata": {},
   "outputs": [],
   "source": []
  }
 ],
 "metadata": {
  "kernelspec": {
   "display_name": "Python [conda env:torch] *",
   "language": "python",
   "name": "conda-env-torch-py"
  },
  "language_info": {
   "codemirror_mode": {
    "name": "ipython",
    "version": 3
   },
   "file_extension": ".py",
   "mimetype": "text/x-python",
   "name": "python",
   "nbconvert_exporter": "python",
   "pygments_lexer": "ipython3",
   "version": "3.7.11"
  }
 },
 "nbformat": 4,
 "nbformat_minor": 5
}
