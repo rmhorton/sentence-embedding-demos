{
 "cells": [
  {
   "cell_type": "code",
   "execution_count": 14,
   "id": "d9b37fe6",
   "metadata": {},
   "outputs": [],
   "source": [
    "DATA_DIR = 'D:/ml_data/stackexchange/'\n",
    "csv_file = 'ai_Posts_featurized.csv'\n",
    "\n",
    "import pandas as pd\n",
    "import numpy as np\n",
    "\n",
    "ai_posts = pd.read_csv(DATA_DIR + csv_file)  # 434,038 KB\n",
    "# Vectors are saved as text in the CSV file; we have to evaluate them to make them numbers again.\n",
    "ai_posts['vector'] = [ np.array(eval(v), dtype='float32') for v in ai_posts['vector']]\n",
    "\n",
    "parquet_file = csv_file.replace('.csv', '_f32.parquet')\n",
    "ai_posts[['text', 'tags', 'last_activity_date', 'vector']].to_parquet(DATA_DIR + parquet_file) # 84,126 KB\n",
    "\n",
    "# I tried float16, but when I tried saving to parquet I got:\n",
    "# ArrowNotImplementedError: Unhandled type for Arrow to Parquet schema conversion: halffloat"
   ]
  }
 ],
 "metadata": {
  "kernelspec": {
   "display_name": "Python [conda env:torch] *",
   "language": "python",
   "name": "conda-env-torch-py"
  },
  "language_info": {
   "codemirror_mode": {
    "name": "ipython",
    "version": 3
   },
   "file_extension": ".py",
   "mimetype": "text/x-python",
   "name": "python",
   "nbconvert_exporter": "python",
   "pygments_lexer": "ipython3",
   "version": "3.7.11"
  }
 },
 "nbformat": 4,
 "nbformat_minor": 5
}
