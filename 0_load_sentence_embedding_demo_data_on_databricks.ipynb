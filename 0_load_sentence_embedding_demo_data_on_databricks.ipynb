{
 "cells": [
  {
   "cell_type": "markdown",
   "metadata": {
    "application/vnd.databricks.v1+cell": {
     "cellMetadata": {},
     "inputWidgets": {},
     "nuid": "96b99d30-5ca7-4ea7-bff7-a803c58e1131",
     "showTitle": false,
     "title": ""
    }
   },
   "source": [
    "# Required packages:\n",
    " * `openpyxl` (for reading Excel files)\n",
    " * `sentence-transformers` (for generating embeddings with HuggingFace models)\n",
    " * `synapseml` (for calling embedding API)\n",
    "\n",
    " These should be loaded on your cluster under 'Compute' > 'Libraries' > 'Install New' (Library Source = PyPi)."
   ]
  },
  {
   "cell_type": "code",
   "execution_count": 0,
   "metadata": {
    "application/vnd.databricks.v1+cell": {
     "cellMetadata": {
      "byteLimit": 2048000,
      "rowLimit": 10000
     },
     "inputWidgets": {},
     "nuid": "eadb8b6d-4621-4353-920b-b886a9d99ced",
     "showTitle": false,
     "title": ""
    }
   },
   "outputs": [],
   "source": [
    "secrets = {'storage_account_name':'sentenceembeddingdemos',\n",
    "           'container_name':'demo-data',\n",
    "           'data_path': '/',\n",
    "           'sas_token': 'PUT_YOUR_SAS_TOKEN_HERE'}\n",
    "\n",
    "# secrets['sas_token'] = \"\"\n"
   ]
  },
  {
   "cell_type": "code",
   "execution_count": 0,
   "metadata": {
    "application/vnd.databricks.v1+cell": {
     "cellMetadata": {
      "byteLimit": 2048000,
      "rowLimit": 10000
     },
     "inputWidgets": {},
     "nuid": "1a3e9e6d-e3f6-4c90-a152-21e854e3e5d2",
     "showTitle": false,
     "title": ""
    }
   },
   "outputs": [],
   "source": [
    "if secrets['sas_token'] == 'PUT_YOUR_SAS_TOKEN_HERE':\n",
    "    displayHTML('''<blink><font color=\"red\"><h1>You need to enter your connection info in the 'secrets' dict!</h1></font></blink>''')"
   ]
  },
  {
   "cell_type": "code",
   "execution_count": 0,
   "metadata": {
    "application/vnd.databricks.v1+cell": {
     "cellMetadata": {
      "byteLimit": 2048000,
      "rowLimit": 10000
     },
     "inputWidgets": {},
     "nuid": "5db307cf-de67-494d-8d9e-934211d2adcd",
     "showTitle": false,
     "title": ""
    }
   },
   "outputs": [
    {
     "output_type": "stream",
     "name": "stdout",
     "output_type": "stream",
     "text": [
      "Out[21]: ['README.md',\n 'bias_detection/',\n 'hello_dolly/',\n 'sidney_in_love/',\n 'tag_curation/']"
     ]
    }
   ],
   "source": [
    "DB_NAME = 'se_demo'\n",
    "\n",
    "DATA_SOURCE = \"wasbs://{container_name}@{storage_account_name}.blob.core.windows.net\".format(**secrets)\n",
    "\n",
    "DATA_PATH = secrets['data_path']\n",
    "\n",
    "MOUNT_POINT = f\"/mnt/{DB_NAME}\"\n",
    "\n",
    "EXTRA_CONFIGS = {\"fs.azure.sas.{container_name}.{storage_account_name}.blob.core.windows.net\".format(**secrets): secrets['sas_token']}\n",
    "\n",
    "CURRENTLY_MOUNTED = {mount_info.mountPoint for mount_info in dbutils.fs.mounts()}\n",
    "if MOUNT_POINT in CURRENTLY_MOUNTED: \n",
    "  dbutils.fs.unmount(MOUNT_POINT)\n",
    "\n",
    "dbutils.fs.mount(\n",
    "    source = DATA_SOURCE + DATA_PATH,\n",
    "    mount_point = MOUNT_POINT,\n",
    "    extra_configs = EXTRA_CONFIGS\n",
    ")\n",
    "\n",
    "[f.name for f in dbutils.fs.ls(MOUNT_POINT)]"
   ]
  },
  {
   "cell_type": "code",
   "execution_count": 0,
   "metadata": {
    "application/vnd.databricks.v1+cell": {
     "cellMetadata": {
      "byteLimit": 2048000,
      "rowLimit": 10000
     },
     "inputWidgets": {},
     "nuid": "ac597795-cbeb-41fe-a8ba-870ec299bed2",
     "showTitle": false,
     "title": ""
    }
   },
   "outputs": [
    {
     "output_type": "stream",
     "name": "stdout",
     "output_type": "stream",
     "text": [
      "dbfs:/mnt/se_demo/bias_detection/\nProcessing file 'dbfs:/mnt/se_demo/bias_detection/generic_occupation_stereotype.xlsx\ntable_name: generic_occupation_stereotype file_ext: xlsx\nCreating table 'se_demo.generic_occupation_stereotype' from file dbfs:/mnt/se_demo/bias_detection/generic_occupation_stereotype.xlsx\nProcessing file 'dbfs:/mnt/se_demo/bias_detection/structured_stereotypes.xlsx\ntable_name: structured_stereotypes file_ext: xlsx\nCreating table 'se_demo.structured_stereotypes' from file dbfs:/mnt/se_demo/bias_detection/structured_stereotypes.xlsx\ndbfs:/mnt/se_demo/hello_dolly/\nProcessing file 'dbfs:/mnt/se_demo/hello_dolly/dolly_data_featurized.parquet\ntable_name: dolly_data_featurized file_ext: parquet\nCreating table 'se_demo.dolly_data_featurized' from file dbfs:/mnt/se_demo/hello_dolly/dolly_data_featurized.parquet\ndbfs:/mnt/se_demo/sidney_in_love/\ndbfs:/mnt/se_demo/tag_curation/\nProcessing file 'dbfs:/mnt/se_demo/tag_curation/ai_Posts.csv\ntable_name: ai_Posts file_ext: csv\nCreating table 'se_demo.ai_Posts' from file dbfs:/mnt/se_demo/tag_curation/ai_Posts.csv\nProcessing file 'dbfs:/mnt/se_demo/tag_curation/ai_Posts_featurized.parquet\ntable_name: ai_Posts_featurized file_ext: parquet\nCreating table 'se_demo.ai_Posts_featurized' from file dbfs:/mnt/se_demo/tag_curation/ai_Posts_featurized.parquet\n"
     ]
    }
   ],
   "source": [
    "import re\n",
    "import pandas as pd\n",
    "\n",
    "spark.sql(f\"create database if not exists {DB_NAME}\")\n",
    "spark.sql(f\"use {DB_NAME}\")\n",
    "\n",
    "mnt_subdirs = [ fi.path for fi in dbutils.fs.ls(MOUNT_POINT) if fi.path.endswith('/')]\n",
    "for subdir in subdirs:\n",
    "  print(subdir)\n",
    "  for file_info in dbutils.fs.ls(subdir):\n",
    "    if not file_info.path.endswith('/'):\n",
    "      print(f\"Processing file '{file_info.path}\")\n",
    "      table_name, file_ext = file_info.name.rsplit('.', 1)\n",
    "      print('table_name:', table_name, 'file_ext:', file_ext)\n",
    "      print(f\"Creating table '{DB_NAME}.{table_name}' from file {file_info.path}\")\n",
    "      if file_ext == 'csv':\n",
    "        sdf = spark.read.options(header=True).csv(file_info.path)\n",
    "      elif file_ext == 'xlsx':\n",
    "        local_path = file_info.path.replace('dbfs:', '/dbfs')\n",
    "        pd.read_excel(local_path, index_col=0)  # requires 'openpyxl' package\n",
    "        sdf = spark.createDataFrame(pdf)\n",
    "      elif file_ext == 'parquet':\n",
    "        sdf = spark.read.options(header=True).parquet(file_info.path)\n",
    "      else:\n",
    "        print(f\"Unexpected file extension '{file_ext}'\")\n",
    "        break\n",
    "      sdf.write.mode('overwrite').saveAsTable(table_name)\n"
   ]
  },
  {
   "cell_type": "code",
   "execution_count": 0,
   "metadata": {
    "application/vnd.databricks.v1+cell": {
     "cellMetadata": {
      "byteLimit": 2048000,
      "implicitDf": true,
      "rowLimit": 10000
     },
     "inputWidgets": {},
     "nuid": "2cb753bc-db94-407f-9c8c-d27f2974a453",
     "showTitle": false,
     "title": ""
    }
   },
   "outputs": [
    {
     "output_type": "display_data",
     "data": {
      "text/html": [
       "<style scoped>\n",
       "  .table-result-container {\n",
       "    max-height: 300px;\n",
       "    overflow: auto;\n",
       "  }\n",
       "  table, th, td {\n",
       "    border: 1px solid black;\n",
       "    border-collapse: collapse;\n",
       "  }\n",
       "  th, td {\n",
       "    padding: 5px;\n",
       "  }\n",
       "  th {\n",
       "    text-align: left;\n",
       "  }\n",
       "</style><div class='table-result-container'><table class='table-result'><thead style='background-color: white'><tr><th>database</th><th>tableName</th><th>isTemporary</th></tr></thead><tbody><tr><td>se_demo</td><td>ai_posts</td><td>false</td></tr><tr><td>se_demo</td><td>ai_posts_featurized</td><td>false</td></tr><tr><td>se_demo</td><td>dolly_data_featurized</td><td>false</td></tr><tr><td>se_demo</td><td>generic_occupation_stereotype</td><td>false</td></tr><tr><td>se_demo</td><td>structured_stereotypes</td><td>false</td></tr></tbody></table></div>"
      ]
     },
     "metadata": {
      "application/vnd.databricks.v1+output": {
       "addedWidgets": {},
       "aggData": [],
       "aggError": "",
       "aggOverflow": false,
       "aggSchema": [],
       "aggSeriesLimitReached": false,
       "aggType": "",
       "arguments": {},
       "columnCustomDisplayInfos": {},
       "data": [
        [
         "se_demo",
         "ai_posts",
         false
        ],
        [
         "se_demo",
         "ai_posts_featurized",
         false
        ],
        [
         "se_demo",
         "dolly_data_featurized",
         false
        ],
        [
         "se_demo",
         "generic_occupation_stereotype",
         false
        ],
        [
         "se_demo",
         "structured_stereotypes",
         false
        ]
       ],
       "datasetInfos": [],
       "dbfsResultPath": null,
       "isJsonSchema": true,
       "metadata": {},
       "overflow": false,
       "plotOptions": {
        "customPlotOptions": {},
        "displayType": "table",
        "pivotAggregation": null,
        "pivotColumns": null,
        "xColumns": null,
        "yColumns": null
       },
       "removedWidgets": [],
       "schema": [
        {
         "metadata": "{}",
         "name": "database",
         "type": "\"string\""
        },
        {
         "metadata": "{}",
         "name": "tableName",
         "type": "\"string\""
        },
        {
         "metadata": "{}",
         "name": "isTemporary",
         "type": "\"boolean\""
        }
       ],
       "type": "table"
      }
     },
     "output_type": "display_data"
    }
   ],
   "source": [
    "%sql\n",
    "\n",
    "use se_demo;\n",
    "show tables;"
   ]
  },
  {
   "cell_type": "markdown",
   "metadata": {
    "application/vnd.databricks.v1+cell": {
     "cellMetadata": {},
     "inputWidgets": {},
     "nuid": "24acde97-549b-49cc-8110-cdc9aee747dc",
     "showTitle": false,
     "title": ""
    }
   },
   "source": [
    "# Featurize generic_occupation_stereotype"
   ]
  },
  {
   "cell_type": "code",
   "execution_count": 0,
   "metadata": {
    "application/vnd.databricks.v1+cell": {
     "cellMetadata": {
      "byteLimit": 2048000,
      "rowLimit": 10000
     },
     "inputWidgets": {},
     "nuid": "99f9015d-b6af-416a-b6c5-20c4f136e6f6",
     "showTitle": false,
     "title": ""
    }
   },
   "outputs": [
    {
     "output_type": "display_data",
     "data": {
      "text/html": [
       "<div>\n",
       "<style scoped>\n",
       "    .dataframe tbody tr th:only-of-type {\n",
       "        vertical-align: middle;\n",
       "    }\n",
       "\n",
       "    .dataframe tbody tr th {\n",
       "        vertical-align: top;\n",
       "    }\n",
       "\n",
       "    .dataframe thead th {\n",
       "        text-align: right;\n",
       "    }\n",
       "</style>\n",
       "<table border=\"1\" class=\"dataframe\">\n",
       "  <thead>\n",
       "    <tr style=\"text-align: right;\">\n",
       "      <th></th>\n",
       "      <th>bucket</th>\n",
       "      <th>stereotype</th>\n",
       "      <th>generic</th>\n",
       "      <th>occupation</th>\n",
       "      <th>embedding</th>\n",
       "    </tr>\n",
       "  </thead>\n",
       "  <tbody>\n",
       "    <tr>\n",
       "      <th>0</th>\n",
       "      <td>23</td>\n",
       "      <td>CEOs are always looking for ways to make more ...</td>\n",
       "      <td>They are always looking for ways to make more ...</td>\n",
       "      <td>CEOs</td>\n",
       "      <td>[0.1738528162240982, -0.298277348279953, -0.32...</td>\n",
       "    </tr>\n",
       "    <tr>\n",
       "      <th>1</th>\n",
       "      <td>53</td>\n",
       "      <td>CEOs are power-hungry and only care about them...</td>\n",
       "      <td>They are power-hungry and only care about them...</td>\n",
       "      <td>CEOs</td>\n",
       "      <td>[-0.11597710102796555, 0.23442350327968597, -0...</td>\n",
       "    </tr>\n",
       "    <tr>\n",
       "      <th>2</th>\n",
       "      <td>24</td>\n",
       "      <td>CEOs are always working and never have any tim...</td>\n",
       "      <td>They are always working and never have any tim...</td>\n",
       "      <td>CEOs</td>\n",
       "      <td>[-0.1919153481721878, -0.15998907387256622, -0...</td>\n",
       "    </tr>\n",
       "    <tr>\n",
       "      <th>3</th>\n",
       "      <td>62</td>\n",
       "      <td>CEOs are unapproachable and think they are bet...</td>\n",
       "      <td>They are unapproachable and think they are bet...</td>\n",
       "      <td>CEOs</td>\n",
       "      <td>[0.3194783329963684, -0.10300444066524506, -0....</td>\n",
       "    </tr>\n",
       "    <tr>\n",
       "      <th>4</th>\n",
       "      <td>24</td>\n",
       "      <td>CEOs are cold and calculating, and only care a...</td>\n",
       "      <td>They are cold and calculating, and only care a...</td>\n",
       "      <td>CEOs</td>\n",
       "      <td>[-0.37241342663764954, 0.6755173802375793, -0....</td>\n",
       "    </tr>\n",
       "    <tr>\n",
       "      <th>...</th>\n",
       "      <td>...</td>\n",
       "      <td>...</td>\n",
       "      <td>...</td>\n",
       "      <td>...</td>\n",
       "      <td>...</td>\n",
       "    </tr>\n",
       "    <tr>\n",
       "      <th>95</th>\n",
       "      <td>31</td>\n",
       "      <td>Doctors only care about the symptoms, not the ...</td>\n",
       "      <td>They only care about the symptoms, not the pat...</td>\n",
       "      <td>Doctors</td>\n",
       "      <td>[0.0405334010720253, 0.1177128478884697, 0.093...</td>\n",
       "    </tr>\n",
       "    <tr>\n",
       "      <th>96</th>\n",
       "      <td>10</td>\n",
       "      <td>Doctors are always trying to sell you something.</td>\n",
       "      <td>They are always trying to sell you something.</td>\n",
       "      <td>Doctors</td>\n",
       "      <td>[-0.21937884390354156, -0.356390118598938, -0....</td>\n",
       "    </tr>\n",
       "    <tr>\n",
       "      <th>97</th>\n",
       "      <td>36</td>\n",
       "      <td>Doctors are always right.</td>\n",
       "      <td>They are always right.</td>\n",
       "      <td>Doctors</td>\n",
       "      <td>[0.12619201838970184, -0.25885850191116333, -0...</td>\n",
       "    </tr>\n",
       "    <tr>\n",
       "      <th>98</th>\n",
       "      <td>38</td>\n",
       "      <td>Doctors know everything.</td>\n",
       "      <td>They know everything.</td>\n",
       "      <td>Doctors</td>\n",
       "      <td>[-0.08524701744318008, 0.005694170948117971, 0...</td>\n",
       "    </tr>\n",
       "    <tr>\n",
       "      <th>99</th>\n",
       "      <td>45</td>\n",
       "      <td>Doctors are always available.</td>\n",
       "      <td>They are always available.</td>\n",
       "      <td>Doctors</td>\n",
       "      <td>[-0.17579039931297302, -0.5138306021690369, 0....</td>\n",
       "    </tr>\n",
       "  </tbody>\n",
       "</table>\n",
       "<p>100 rows × 5 columns</p>\n",
       "</div>"
      ]
     },
     "metadata": {
      "application/vnd.databricks.v1+output": {
       "addedWidgets": {},
       "arguments": {},
       "data": "<div>\n<style scoped>\n    .dataframe tbody tr th:only-of-type {\n        vertical-align: middle;\n    }\n\n    .dataframe tbody tr th {\n        vertical-align: top;\n    }\n\n    .dataframe thead th {\n        text-align: right;\n    }\n</style>\n<table border=\"1\" class=\"dataframe\">\n  <thead>\n    <tr style=\"text-align: right;\">\n      <th></th>\n      <th>bucket</th>\n      <th>stereotype</th>\n      <th>generic</th>\n      <th>occupation</th>\n      <th>embedding</th>\n    </tr>\n  </thead>\n  <tbody>\n    <tr>\n      <th>0</th>\n      <td>23</td>\n      <td>CEOs are always looking for ways to make more ...</td>\n      <td>They are always looking for ways to make more ...</td>\n      <td>CEOs</td>\n      <td>[0.1738528162240982, -0.298277348279953, -0.32...</td>\n    </tr>\n    <tr>\n      <th>1</th>\n      <td>53</td>\n      <td>CEOs are power-hungry and only care about them...</td>\n      <td>They are power-hungry and only care about them...</td>\n      <td>CEOs</td>\n      <td>[-0.11597710102796555, 0.23442350327968597, -0...</td>\n    </tr>\n    <tr>\n      <th>2</th>\n      <td>24</td>\n      <td>CEOs are always working and never have any tim...</td>\n      <td>They are always working and never have any tim...</td>\n      <td>CEOs</td>\n      <td>[-0.1919153481721878, -0.15998907387256622, -0...</td>\n    </tr>\n    <tr>\n      <th>3</th>\n      <td>62</td>\n      <td>CEOs are unapproachable and think they are bet...</td>\n      <td>They are unapproachable and think they are bet...</td>\n      <td>CEOs</td>\n      <td>[0.3194783329963684, -0.10300444066524506, -0....</td>\n    </tr>\n    <tr>\n      <th>4</th>\n      <td>24</td>\n      <td>CEOs are cold and calculating, and only care a...</td>\n      <td>They are cold and calculating, and only care a...</td>\n      <td>CEOs</td>\n      <td>[-0.37241342663764954, 0.6755173802375793, -0....</td>\n    </tr>\n    <tr>\n      <th>...</th>\n      <td>...</td>\n      <td>...</td>\n      <td>...</td>\n      <td>...</td>\n      <td>...</td>\n    </tr>\n    <tr>\n      <th>95</th>\n      <td>31</td>\n      <td>Doctors only care about the symptoms, not the ...</td>\n      <td>They only care about the symptoms, not the pat...</td>\n      <td>Doctors</td>\n      <td>[0.0405334010720253, 0.1177128478884697, 0.093...</td>\n    </tr>\n    <tr>\n      <th>96</th>\n      <td>10</td>\n      <td>Doctors are always trying to sell you something.</td>\n      <td>They are always trying to sell you something.</td>\n      <td>Doctors</td>\n      <td>[-0.21937884390354156, -0.356390118598938, -0....</td>\n    </tr>\n    <tr>\n      <th>97</th>\n      <td>36</td>\n      <td>Doctors are always right.</td>\n      <td>They are always right.</td>\n      <td>Doctors</td>\n      <td>[0.12619201838970184, -0.25885850191116333, -0...</td>\n    </tr>\n    <tr>\n      <th>98</th>\n      <td>38</td>\n      <td>Doctors know everything.</td>\n      <td>They know everything.</td>\n      <td>Doctors</td>\n      <td>[-0.08524701744318008, 0.005694170948117971, 0...</td>\n    </tr>\n    <tr>\n      <th>99</th>\n      <td>45</td>\n      <td>Doctors are always available.</td>\n      <td>They are always available.</td>\n      <td>Doctors</td>\n      <td>[-0.17579039931297302, -0.5138306021690369, 0....</td>\n    </tr>\n  </tbody>\n</table>\n<p>100 rows × 5 columns</p>\n</div>",
       "datasetInfos": [],
       "metadata": {},
       "removedWidgets": [],
       "textData": null,
       "type": "htmlSandbox"
      }
     },
     "output_type": "display_data"
    }
   ],
   "source": [
    "def featurize(pdf):\n",
    "  from sentence_transformers import SentenceTransformer\n",
    "  sentxformer = SentenceTransformer('sentence-transformers/paraphrase-MiniLM-L6-v2') # 'sentence-transformers/all-mpnet-base-v2'\n",
    "  pdf['embedding'] = sentxformer.encode(pdf['generic']).tolist()\n",
    "  return pdf\n",
    "\n",
    "Q = \"select int(abs(hash(generic))) % 64 bucket, * from generic_occupation_stereotype\"\n",
    "\n",
    "sample_data = spark.sql(Q + \" limit 100\").toPandas()\n",
    "sample_data_featurized_pdf = featurize(sample_data)\n",
    "\n",
    "sample_data_featurized_pdf"
   ]
  },
  {
   "cell_type": "code",
   "execution_count": 0,
   "metadata": {
    "application/vnd.databricks.v1+cell": {
     "cellMetadata": {
      "byteLimit": 2048000,
      "rowLimit": 10000
     },
     "inputWidgets": {},
     "nuid": "bb2605fc-c667-4fd1-9230-b4600a30923c",
     "showTitle": false,
     "title": ""
    }
   },
   "outputs": [
    {
     "output_type": "stream",
     "name": "stdout",
     "output_type": "stream",
     "text": [
      "Out[63]: StructType([StructField('bucket', IntegerType(), True), StructField('stereotype', StringType(), True), StructField('generic', StringType(), True), StructField('occupation', StringType(), True), StructField('embedding', ArrayType(DoubleType(), True), True)])"
     ]
    }
   ],
   "source": [
    "featurized_schema = spark.createDataFrame(sample_data_featurized_pdf).schema\n",
    "featurized_schema"
   ]
  },
  {
   "cell_type": "code",
   "execution_count": 0,
   "metadata": {
    "application/vnd.databricks.v1+cell": {
     "cellMetadata": {
      "byteLimit": 2048000,
      "rowLimit": 10000
     },
     "inputWidgets": {},
     "nuid": "15bf1c3c-3b18-4cce-aad1-d649afbe745b",
     "showTitle": false,
     "title": ""
    }
   },
   "outputs": [],
   "source": [
    "import pandas as pd  \n",
    "from pyspark.sql.functions import pandas_udf, ceil\n",
    "\n",
    "featurized_data = sql(Q).groupby(\"bucket\").applyInPandas(featurize, featurized_schema)"
   ]
  },
  {
   "cell_type": "code",
   "execution_count": 0,
   "metadata": {
    "application/vnd.databricks.v1+cell": {
     "cellMetadata": {
      "byteLimit": 2048000,
      "rowLimit": 10000
     },
     "inputWidgets": {},
     "nuid": "ff74455f-6977-4d22-bda9-8685f98173d8",
     "showTitle": false,
     "title": ""
    }
   },
   "outputs": [
    {
     "output_type": "display_data",
     "data": {
      "text/html": [
       "<div>\n",
       "<style scoped>\n",
       "    .dataframe tbody tr th:only-of-type {\n",
       "        vertical-align: middle;\n",
       "    }\n",
       "\n",
       "    .dataframe tbody tr th {\n",
       "        vertical-align: top;\n",
       "    }\n",
       "\n",
       "    .dataframe thead th {\n",
       "        text-align: right;\n",
       "    }\n",
       "</style>\n",
       "<table border=\"1\" class=\"dataframe\">\n",
       "  <thead>\n",
       "    <tr style=\"text-align: right;\">\n",
       "      <th></th>\n",
       "      <th>bucket</th>\n",
       "      <th>stereotype</th>\n",
       "      <th>generic</th>\n",
       "      <th>occupation</th>\n",
       "      <th>embedding</th>\n",
       "    </tr>\n",
       "  </thead>\n",
       "  <tbody>\n",
       "    <tr>\n",
       "      <th>0</th>\n",
       "      <td>0</td>\n",
       "      <td>All programmers are socially awkward.</td>\n",
       "      <td>They are socially awkward.</td>\n",
       "      <td>Programmers</td>\n",
       "      <td>[0.371877521276474, 0.06199703738093376, 0.097...</td>\n",
       "    </tr>\n",
       "    <tr>\n",
       "      <th>1</th>\n",
       "      <td>0</td>\n",
       "      <td>All programmers are geniuses.</td>\n",
       "      <td>They are geniuses.</td>\n",
       "      <td>Programmers</td>\n",
       "      <td>[-0.5986257195472717, -0.052797626703977585, -...</td>\n",
       "    </tr>\n",
       "    <tr>\n",
       "      <th>2</th>\n",
       "      <td>0</td>\n",
       "      <td>Bankers are always trying to make a quick buck.</td>\n",
       "      <td>They are always trying to make a quick buck.</td>\n",
       "      <td>Bankers</td>\n",
       "      <td>[-0.3954196274280548, -0.18436558544635773, -0...</td>\n",
       "    </tr>\n",
       "    <tr>\n",
       "      <th>3</th>\n",
       "      <td>0</td>\n",
       "      <td>Bankers are boring and have no sense of humor.</td>\n",
       "      <td>They are boring and have no sense of humor.</td>\n",
       "      <td>Bankers</td>\n",
       "      <td>[0.14831893146038055, -0.2876422703266144, 0.2...</td>\n",
       "    </tr>\n",
       "    <tr>\n",
       "      <th>4</th>\n",
       "      <td>0</td>\n",
       "      <td>Chefs are always yelling.</td>\n",
       "      <td>They are always yelling.</td>\n",
       "      <td>Chefs</td>\n",
       "      <td>[0.07941865921020508, 0.09496933966875076, -0....</td>\n",
       "    </tr>\n",
       "    <tr>\n",
       "      <th>...</th>\n",
       "      <td>...</td>\n",
       "      <td>...</td>\n",
       "      <td>...</td>\n",
       "      <td>...</td>\n",
       "      <td>...</td>\n",
       "    </tr>\n",
       "    <tr>\n",
       "      <th>3353</th>\n",
       "      <td>63</td>\n",
       "      <td>Engineers are not creative.</td>\n",
       "      <td>They are not creative.</td>\n",
       "      <td>Engineers</td>\n",
       "      <td>[0.20297721028327942, -0.29839426279067993, -0...</td>\n",
       "    </tr>\n",
       "    <tr>\n",
       "      <th>3354</th>\n",
       "      <td>63</td>\n",
       "      <td>Engineers are not creative.</td>\n",
       "      <td>They are not creative.</td>\n",
       "      <td>Engineers</td>\n",
       "      <td>[0.20297721028327942, -0.29839426279067993, -0...</td>\n",
       "    </tr>\n",
       "    <tr>\n",
       "      <th>3355</th>\n",
       "      <td>63</td>\n",
       "      <td>Janitors are not stylish.</td>\n",
       "      <td>They are not stylish.</td>\n",
       "      <td>Janitors</td>\n",
       "      <td>[0.21393610537052155, 0.015848703682422638, -0...</td>\n",
       "    </tr>\n",
       "    <tr>\n",
       "      <th>3356</th>\n",
       "      <td>63</td>\n",
       "      <td>Janitors are unkempt.</td>\n",
       "      <td>They are unkempt.</td>\n",
       "      <td>Janitors</td>\n",
       "      <td>[0.263754278421402, -0.12612855434417725, 0.29...</td>\n",
       "    </tr>\n",
       "    <tr>\n",
       "      <th>3357</th>\n",
       "      <td>63</td>\n",
       "      <td>Receptionists never seem to be busy.</td>\n",
       "      <td>They never seem to be busy.</td>\n",
       "      <td>Receptionists</td>\n",
       "      <td>[0.27093327045440674, -0.2589988708496094, -0....</td>\n",
       "    </tr>\n",
       "  </tbody>\n",
       "</table>\n",
       "<p>3358 rows × 5 columns</p>\n",
       "</div>"
      ]
     },
     "metadata": {
      "application/vnd.databricks.v1+output": {
       "addedWidgets": {},
       "arguments": {},
       "data": "<div>\n<style scoped>\n    .dataframe tbody tr th:only-of-type {\n        vertical-align: middle;\n    }\n\n    .dataframe tbody tr th {\n        vertical-align: top;\n    }\n\n    .dataframe thead th {\n        text-align: right;\n    }\n</style>\n<table border=\"1\" class=\"dataframe\">\n  <thead>\n    <tr style=\"text-align: right;\">\n      <th></th>\n      <th>bucket</th>\n      <th>stereotype</th>\n      <th>generic</th>\n      <th>occupation</th>\n      <th>embedding</th>\n    </tr>\n  </thead>\n  <tbody>\n    <tr>\n      <th>0</th>\n      <td>0</td>\n      <td>All programmers are socially awkward.</td>\n      <td>They are socially awkward.</td>\n      <td>Programmers</td>\n      <td>[0.371877521276474, 0.06199703738093376, 0.097...</td>\n    </tr>\n    <tr>\n      <th>1</th>\n      <td>0</td>\n      <td>All programmers are geniuses.</td>\n      <td>They are geniuses.</td>\n      <td>Programmers</td>\n      <td>[-0.5986257195472717, -0.052797626703977585, -...</td>\n    </tr>\n    <tr>\n      <th>2</th>\n      <td>0</td>\n      <td>Bankers are always trying to make a quick buck.</td>\n      <td>They are always trying to make a quick buck.</td>\n      <td>Bankers</td>\n      <td>[-0.3954196274280548, -0.18436558544635773, -0...</td>\n    </tr>\n    <tr>\n      <th>3</th>\n      <td>0</td>\n      <td>Bankers are boring and have no sense of humor.</td>\n      <td>They are boring and have no sense of humor.</td>\n      <td>Bankers</td>\n      <td>[0.14831893146038055, -0.2876422703266144, 0.2...</td>\n    </tr>\n    <tr>\n      <th>4</th>\n      <td>0</td>\n      <td>Chefs are always yelling.</td>\n      <td>They are always yelling.</td>\n      <td>Chefs</td>\n      <td>[0.07941865921020508, 0.09496933966875076, -0....</td>\n    </tr>\n    <tr>\n      <th>...</th>\n      <td>...</td>\n      <td>...</td>\n      <td>...</td>\n      <td>...</td>\n      <td>...</td>\n    </tr>\n    <tr>\n      <th>3353</th>\n      <td>63</td>\n      <td>Engineers are not creative.</td>\n      <td>They are not creative.</td>\n      <td>Engineers</td>\n      <td>[0.20297721028327942, -0.29839426279067993, -0...</td>\n    </tr>\n    <tr>\n      <th>3354</th>\n      <td>63</td>\n      <td>Engineers are not creative.</td>\n      <td>They are not creative.</td>\n      <td>Engineers</td>\n      <td>[0.20297721028327942, -0.29839426279067993, -0...</td>\n    </tr>\n    <tr>\n      <th>3355</th>\n      <td>63</td>\n      <td>Janitors are not stylish.</td>\n      <td>They are not stylish.</td>\n      <td>Janitors</td>\n      <td>[0.21393610537052155, 0.015848703682422638, -0...</td>\n    </tr>\n    <tr>\n      <th>3356</th>\n      <td>63</td>\n      <td>Janitors are unkempt.</td>\n      <td>They are unkempt.</td>\n      <td>Janitors</td>\n      <td>[0.263754278421402, -0.12612855434417725, 0.29...</td>\n    </tr>\n    <tr>\n      <th>3357</th>\n      <td>63</td>\n      <td>Receptionists never seem to be busy.</td>\n      <td>They never seem to be busy.</td>\n      <td>Receptionists</td>\n      <td>[0.27093327045440674, -0.2589988708496094, -0....</td>\n    </tr>\n  </tbody>\n</table>\n<p>3358 rows × 5 columns</p>\n</div>",
       "datasetInfos": [],
       "metadata": {},
       "removedWidgets": [],
       "textData": null,
       "type": "htmlSandbox"
      }
     },
     "output_type": "display_data"
    }
   ],
   "source": [
    "featurized_data.toPandas()"
   ]
  },
  {
   "cell_type": "code",
   "execution_count": 0,
   "metadata": {
    "application/vnd.databricks.v1+cell": {
     "cellMetadata": {},
     "inputWidgets": {},
     "nuid": "97829a5d-d30f-4ba6-bd33-fcc8612ecda6",
     "showTitle": false,
     "title": ""
    }
   },
   "outputs": [],
   "source": []
  }
 ],
 "metadata": {
  "application/vnd.databricks.v1+notebook": {
   "dashboards": [],
   "language": "python",
   "notebookMetadata": {
    "mostRecentlyExecutedCommandWithImplicitDF": {
     "commandId": 2808689575527663,
     "dataframes": [
      "_sqldf"
     ]
    },
    "pythonIndentUnit": 2
   },
   "notebookName": "load_sentence_embedding_demo_data",
   "widgets": {}
  }
 },
 "nbformat": 4,
 "nbformat_minor": 0
}
