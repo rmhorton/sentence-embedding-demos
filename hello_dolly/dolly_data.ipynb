{
 "cells": [
  {
   "cell_type": "code",
   "execution_count": 1,
   "id": "ff14f58f",
   "metadata": {},
   "outputs": [],
   "source": [
    "import pandas as pd\n",
    "import numpy as np\n",
    "import requests\n",
    "import json"
   ]
  },
  {
   "cell_type": "code",
   "execution_count": 2,
   "id": "a9ff4f8e",
   "metadata": {},
   "outputs": [],
   "source": [
    "PARQUET_DIR = 'hello_dolly.parquet' # name of directory where we will save formatted data\n",
    "DATA_URL = \"https://github.com/databrickslabs/dolly/blob/master/data/databricks-dolly-15k.jsonl?raw=true\"\n",
    "\n",
    "rows = []\n",
    "resp = requests.get(DATA_URL, stream=True)\n",
    "for line in resp.iter_lines():\n",
    "    if line: # filter out keep-alive new lines\n",
    "        decoded_line = line.decode('utf-8')\n",
    "        rows.append(json.loads(decoded_line))\n",
    "\n",
    "dolly_data = pd.DataFrame(rows)"
   ]
  },
  {
   "cell_type": "markdown",
   "id": "78736839",
   "metadata": {},
   "source": [
    "Which text columns may be missing?"
   ]
  },
  {
   "cell_type": "code",
   "execution_count": 3,
   "id": "f60d0d24",
   "metadata": {},
   "outputs": [
    {
     "name": "stdout",
     "output_type": "stream",
     "text": [
      "Fraction of each text column containing data:\n",
      "instruction :  1.0\n",
      "context :  0.3062475023311576\n",
      "response :  1.0\n"
     ]
    }
   ],
   "source": [
    "def fraction_present(df, col):\n",
    "    nonempty = [ 1 if len(x) > 0 else 0 for x in df[col] ]\n",
    "    return np.mean(nonempty)\n",
    "\n",
    "text_cols = ['instruction', 'context', 'response']\n",
    "print(\"Fraction of each text column containing data:\")\n",
    "for text_col in text_cols:\n",
    "    print(text_col, ': ', fraction_present(dolly_data, text_col))"
   ]
  },
  {
   "cell_type": "markdown",
   "id": "f24b3940",
   "metadata": {},
   "source": [
    "Compute embeddings for instruction and response columns:"
   ]
  },
  {
   "cell_type": "code",
   "execution_count": 4,
   "id": "1de313de",
   "metadata": {
    "scrolled": true
   },
   "outputs": [],
   "source": [
    "from sentence_transformers import SentenceTransformer\n",
    "sentxformer = SentenceTransformer('sentence-transformers/all-mpnet-base-v2')\n",
    "\n",
    "dolly_data['instruction_vector'] = np.float32(sentxformer.encode(dolly_data['instruction'].values)).tolist()\n",
    "dolly_data['response_vector'] = np.float32(sentxformer.encode(dolly_data['response'].values)).tolist()"
   ]
  },
  {
   "cell_type": "markdown",
   "id": "2ee3f842",
   "metadata": {},
   "source": [
    "# Save the featurized dataset"
   ]
  },
  {
   "cell_type": "code",
   "execution_count": 5,
   "id": "34d95f4c",
   "metadata": {},
   "outputs": [],
   "source": [
    "# Partition dataset\n",
    "dolly_data['bucket'] = [ hash(k) % 10 for k in dolly_data['instruction'] ]\n",
    "\n",
    "dolly_data.to_parquet(PARQUET_DIR, partition_cols=['bucket'])"
   ]
  }
 ],
 "metadata": {
  "kernelspec": {
   "display_name": "Python [conda env:torch] *",
   "language": "python",
   "name": "conda-env-torch-py"
  },
  "language_info": {
   "codemirror_mode": {
    "name": "ipython",
    "version": 3
   },
   "file_extension": ".py",
   "mimetype": "text/x-python",
   "name": "python",
   "nbconvert_exporter": "python",
   "pygments_lexer": "ipython3",
   "version": "3.7.11"
  }
 },
 "nbformat": 4,
 "nbformat_minor": 5
}
